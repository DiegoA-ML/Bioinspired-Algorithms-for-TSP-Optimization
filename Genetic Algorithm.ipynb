{
 "cells": [
  {
   "cell_type": "markdown",
   "id": "3d673228",
   "metadata": {},
   "source": [
    "# Algoritmo Genetico"
   ]
  },
  {
   "cell_type": "markdown",
   "id": "018ccf5a",
   "metadata": {},
   "source": [
    "Librerias"
   ]
  },
  {
   "cell_type": "code",
   "execution_count": 43,
   "id": "e9f984c8",
   "metadata": {},
   "outputs": [],
   "source": [
    "import pandas as pd\n",
    "import random as rand\n",
    "import numpy as np\n",
    "import time\n",
    "from geopy.distance import geodesic"
   ]
  },
  {
   "cell_type": "markdown",
   "id": "9ff12539",
   "metadata": {},
   "source": [
    "Generar Cromosona"
   ]
  },
  {
   "cell_type": "code",
   "execution_count": 18,
   "id": "e8bdaf00",
   "metadata": {},
   "outputs": [],
   "source": [
    "def generar_cromosona(casas):\n",
    "    return rand.sample(casas, len(casas))"
   ]
  },
  {
   "cell_type": "markdown",
   "id": "9842d5ab",
   "metadata": {},
   "source": [
    "Crear Poblacion Inicial"
   ]
  },
  {
   "cell_type": "code",
   "execution_count": 19,
   "id": "440e3333",
   "metadata": {},
   "outputs": [],
   "source": [
    "def generar_poblacion_inicial(n, casas):\n",
    "    \n",
    "    poblacion = []\n",
    "    \n",
    "    for i in range(n):\n",
    "        poblacion.append(generar_cromosona(casas))\n",
    "        \n",
    "    return poblacion"
   ]
  },
  {
   "cell_type": "markdown",
   "id": "799d3dfc",
   "metadata": {},
   "source": [
    "Funcion Fitness"
   ]
  },
  {
   "cell_type": "code",
   "execution_count": 65,
   "id": "ee7ca33f",
   "metadata": {},
   "outputs": [],
   "source": [
    "def calcular_fitness(cromosona, comienzo, red):\n",
    "\n",
    "    cromosona_con_fin = [comienzo] + cromosona + [comienzo]\n",
    "    \n",
    "    distancias = []\n",
    "    \n",
    "    for idx in range(len(cromosona_con_fin) - 1):\n",
    "        actual = cromosona_con_fin[idx]\n",
    "        siguiente = cromosona_con_fin[idx + 1]\n",
    "        \n",
    "        distancia = red.loc[red[red.columns[0]] == actual, siguiente].values[0]\n",
    "    \n",
    "        distancias.append(distancia)\n",
    "    \n",
    "    distancia_total = sum(distancias)\n",
    "    fitness = 1 / distancia_total if distancia_total != 0 else float('inf')\n",
    "    \n",
    "    return fitness, distancia_total\n"
   ]
  },
  {
   "cell_type": "code",
   "execution_count": 21,
   "id": "5a78e03f",
   "metadata": {},
   "outputs": [],
   "source": [
    "def fitness_poblacional(poblacion, comienzo, red):\n",
    "\n",
    "    lista_fitness = []\n",
    "    lista_distancia = []\n",
    "    \n",
    "    for cromosona in poblacion:\n",
    "        fitness_crom, distancia_crom = calcular_fitness(cromosona, comienzo, red)\n",
    "        lista_fitness.append(fitness_crom)\n",
    "        lista_distancia.append(distancia_crom)\n",
    "    \n",
    "    total_fit = np.sum(lista_fitness)  # Use NumPy for summation\n",
    "    \n",
    "    return lista_fitness, lista_distancia, total_fit\n"
   ]
  },
  {
   "cell_type": "markdown",
   "id": "b5fa03c8",
   "metadata": {},
   "source": [
    "Seleccion"
   ]
  },
  {
   "cell_type": "code",
   "execution_count": 22,
   "id": "44592d19",
   "metadata": {},
   "outputs": [],
   "source": [
    "def seleccion_rouleta(poblacion, lista_fitness, fitness_total):\n",
    "    lista_probabilidad = np.array(lista_fitness) / fitness_total\n",
    "    padres = rand.choices(poblacion, weights=lista_probabilidad, k=2)\n",
    "    return padres[0], padres[1]"
   ]
  },
  {
   "cell_type": "markdown",
   "id": "284ee1d9",
   "metadata": {},
   "source": [
    "Cruce"
   ]
  },
  {
   "cell_type": "code",
   "execution_count": 92,
   "id": "d20bc845",
   "metadata": {},
   "outputs": [],
   "source": [
    "def cruce(padre1, padre2, probabilidad_cruce):\n",
    "    \n",
    "    if rand.random() < probabilidad_cruce:\n",
    "    \n",
    "        punto = rand.randint(0,len(padre1))\n",
    "\n",
    "        hijo1 = padre1[:punto] + padre2[punto:]\n",
    "        hijo2 = padre2[:punto] + padre1[punto:]\n",
    "\n",
    "        return hijo1, hijo2\n",
    "\n",
    "    else:\n",
    "        return padre1, padre2"
   ]
  },
  {
   "cell_type": "markdown",
   "id": "a43ad378",
   "metadata": {},
   "source": [
    "Mutacion"
   ]
  },
  {
   "cell_type": "code",
   "execution_count": 24,
   "id": "3de2691d",
   "metadata": {},
   "outputs": [],
   "source": [
    "def mutacion(hijos, probabilidad_mutacion):\n",
    "\n",
    "    for hijo in hijos:\n",
    "        if rand.random() < probabilidad_mutacion:\n",
    "            \n",
    "            idx1, idx2 = rand.sample(range(len(hijo)), 2)\n",
    "            hijo[idx1], hijo[idx2] = hijo[idx2], hijo[idx1]\n",
    "    \n",
    "    return hijos"
   ]
  },
  {
   "cell_type": "markdown",
   "id": "b53997c5",
   "metadata": {},
   "source": [
    "Forzar factibilidad de hijos"
   ]
  },
  {
   "cell_type": "code",
   "execution_count": 25,
   "id": "4fd524a9",
   "metadata": {},
   "outputs": [],
   "source": [
    "def forzar_factibilidad(hijos, lista_ciudades):\n",
    "    \n",
    "    for hijo in hijos:\n",
    "        \n",
    "        ciudades_faltantes = set(lista_ciudades) - set(hijo)  \n",
    "        ciudad_counts = {}\n",
    "\n",
    "        for ciudad in hijo:\n",
    "            if ciudad in ciudad_counts:\n",
    "                ciudad_counts[ciudad] += 1\n",
    "            else:\n",
    "                ciudad_counts[ciudad] = 1\n",
    "        \n",
    "        for idx, ciudad in enumerate(hijo):\n",
    "            if ciudad_counts[ciudad] > 1:\n",
    "              \n",
    "                if ciudades_faltantes:\n",
    "                    new_city = ciudades_faltantes.pop()  \n",
    "                    hijo[idx] = new_city  \n",
    "                    ciudad_counts[ciudad] -= 1  \n",
    "                else:\n",
    "                    break  \n",
    "    \n",
    "    return hijos"
   ]
  },
  {
   "cell_type": "markdown",
   "id": "61695d4a",
   "metadata": {},
   "source": [
    "Checar Fitness Max"
   ]
  },
  {
   "cell_type": "code",
   "execution_count": 105,
   "id": "011cbba4",
   "metadata": {},
   "outputs": [],
   "source": [
    "def checar_fitness_max(poblacion, max_fitness, min_distancia, generacion, comienzo, red, crom_min):\n",
    "\n",
    "    lista_fit, lista_dist, fit_pob = fitness_poblacional(poblacion, comienzo, red)\n",
    "\n",
    "    max_fit_pob = max(lista_fit)\n",
    "\n",
    "    if max_fit_pob > max_fitness:\n",
    "\n",
    "        max_fitness = max_fit_pob\n",
    " \n",
    "        max_fit_index = lista_fit.index(max_fit_pob)\n",
    "\n",
    "        min_distancia = lista_dist[max_fit_index]\n",
    "        \n",
    "        crom_min_sin_comienzo = poblacion[max_fit_index]\n",
    "        \n",
    "        crom_min = [comienzo] + crom_min_sin_comienzo + [comienzo]\n",
    "\n",
    "        #print(f\"Generacion: {generacion}\\nFitness: {max_fitness}\\nDistancia: {min_distancia}\\nCromosona:{crom_min}\\n\\n\")\n",
    "\n",
    "    return max_fitness, min_distancia, crom_min"
   ]
  },
  {
   "cell_type": "markdown",
   "id": "434210f7",
   "metadata": {},
   "source": [
    "Parametros"
   ]
  },
  {
   "cell_type": "code",
   "execution_count": 27,
   "id": "17cc09c8",
   "metadata": {},
   "outputs": [],
   "source": [
    "max_generaciones = 100\n",
    "max_fitness = 0\n",
    "min_distancia = 999999\n",
    "tamanio_poblacional = 4\n",
    "\n",
    "probabildad_cruce = 0.9\n",
    "probabilidad_mutacion = 0.05"
   ]
  },
  {
   "cell_type": "markdown",
   "id": "b6305816",
   "metadata": {},
   "source": [
    "**Disena 10 redes de 40 nodos (direcciones) de forma aleatoria a partir de la siguiente\n",
    "lista de direcciones. Recuerda que vamos a minimizar la distancia recorrida.**"
   ]
  },
  {
   "cell_type": "code",
   "execution_count": 144,
   "id": "af9e7cfe",
   "metadata": {},
   "outputs": [],
   "source": [
    "red1_40 = pd.read_excel(\"matrices_40.xlsx\", sheet_name = \"Rede_1\")\n",
    "red2_40 = pd.read_excel(\"matrices_40.xlsx\", sheet_name = \"Rede_2\")\n",
    "red3_40 = pd.read_excel(\"matrices_40.xlsx\", sheet_name = \"Rede_3\")\n",
    "red4_40 = pd.read_excel(\"matrices_40.xlsx\", sheet_name = \"Rede_4\")\n",
    "red5_40 = pd.read_excel(\"matrices_40.xlsx\", sheet_name = \"Rede_5\")\n",
    "red6_40 = pd.read_excel(\"matrices_40.xlsx\", sheet_name = \"Rede_6\")\n",
    "red7_40 = pd.read_excel(\"matrices_40.xlsx\", sheet_name = \"Rede_7\")\n",
    "red8_40 = pd.read_excel(\"matrices_40.xlsx\", sheet_name = \"Rede_8\")\n",
    "red9_40 = pd.read_excel(\"matrices_40.xlsx\", sheet_name = \"Rede_9\")\n",
    "red10_40 = pd.read_excel(\"matrices_40.xlsx\", sheet_name = \"Rede_10\")\n",
    "\n",
    "redes_40 = [red1_40,red2_40,red3_40,red4_40,red5_40,red6_40,red7_40,red8_40,red9_40,red10_40]"
   ]
  },
  {
   "cell_type": "code",
   "execution_count": 133,
   "id": "4864498a",
   "metadata": {},
   "outputs": [],
   "source": [
    "red1_100 = pd.read_excel(\"matrices_100.xlsx\", sheet_name = \"Rede_1\")\n",
    "red2_100 = pd.read_excel(\"matrices_100.xlsx\", sheet_name = \"Rede_2\")\n",
    "red3_100 = pd.read_excel(\"matrices_100.xlsx\", sheet_name = \"Rede_3\")\n",
    "red4_100 = pd.read_excel(\"matrices_100.xlsx\", sheet_name = \"Rede_4\")\n",
    "red5_100 = pd.read_excel(\"matrices_100.xlsx\", sheet_name = \"Rede_5\")\n",
    "red6_100 = pd.read_excel(\"matrices_100.xlsx\", sheet_name = \"Rede_6\")\n",
    "red7_100 = pd.read_excel(\"matrices_100.xlsx\", sheet_name = \"Rede_7\")\n",
    "red8_100 = pd.read_excel(\"matrices_100.xlsx\", sheet_name = \"Rede_8\")\n",
    "red9_100 = pd.read_excel(\"matrices_100.xlsx\", sheet_name = \"Rede_9\")\n",
    "red10_100 = pd.read_excel(\"matrices_100.xlsx\", sheet_name = \"Rede_10\")\n",
    "\n",
    "redes_100 = [red1_100, red2_100, red3_100, red4_100, red5_100, red6_100, red7_100, red8_100, red9_100, red10_100]"
   ]
  },
  {
   "cell_type": "code",
   "execution_count": 140,
   "id": "e319f90f",
   "metadata": {},
   "outputs": [],
   "source": [
    "red1_150 = pd.read_excel(\"matrices_150.xlsx\", sheet_name = \"Rede_1\")\n",
    "red2_150 = pd.read_excel(\"matrices_150.xlsx\", sheet_name = \"Rede_2\")\n",
    "red3_150 = pd.read_excel(\"matrices_150.xlsx\", sheet_name = \"Rede_3\")\n",
    "red4_150 = pd.read_excel(\"matrices_150.xlsx\", sheet_name = \"Rede_4\")\n",
    "red5_150 = pd.read_excel(\"matrices_150.xlsx\", sheet_name = \"Rede_5\")\n",
    "red6_150 = pd.read_excel(\"matrices_150.xlsx\", sheet_name = \"Rede_6\")\n",
    "red7_150 = pd.read_excel(\"matrices_150.xlsx\", sheet_name = \"Rede_7\")\n",
    "red8_150 = pd.read_excel(\"matrices_150.xlsx\", sheet_name = \"Rede_8\")\n",
    "red9_150 = pd.read_excel(\"matrices_150.xlsx\", sheet_name = \"Rede_9\")\n",
    "red10_150 = pd.read_excel(\"matrices_150.xlsx\", sheet_name = \"Rede_10\")\n",
    "\n",
    "redes_150 = [red1_150, red2_150, red3_150, red4_150, red5_150, red6_150, red7_150, red8_150, red9_150, red10_150]"
   ]
  },
  {
   "cell_type": "code",
   "execution_count": 141,
   "id": "cfc08a56",
   "metadata": {},
   "outputs": [],
   "source": [
    "red1_200 = pd.read_excel(\"matrices_200.xlsx\", sheet_name = \"Rede_1\")\n",
    "red2_200 = pd.read_excel(\"matrices_200.xlsx\", sheet_name = \"Rede_2\")\n",
    "red3_200 = pd.read_excel(\"matrices_200.xlsx\", sheet_name = \"Rede_3\")\n",
    "red4_200 = pd.read_excel(\"matrices_200.xlsx\", sheet_name = \"Rede_4\")\n",
    "red5_200 = pd.read_excel(\"matrices_200.xlsx\", sheet_name = \"Rede_5\")\n",
    "red6_200 = pd.read_excel(\"matrices_200.xlsx\", sheet_name = \"Rede_6\")\n",
    "red7_200 = pd.read_excel(\"matrices_200.xlsx\", sheet_name = \"Rede_7\")\n",
    "red8_200 = pd.read_excel(\"matrices_200.xlsx\", sheet_name = \"Rede_8\")\n",
    "red9_200 = pd.read_excel(\"matrices_200.xlsx\", sheet_name = \"Rede_9\")\n",
    "red10_200 = pd.read_excel(\"matrices_200.xlsx\", sheet_name = \"Rede_10\")\n",
    "\n",
    "redes_200 = [red1_200, red2_200, red3_200, red4_200, red5_200, red6_200, red7_200, red8_200, red9_200, red10_200]"
   ]
  },
  {
   "cell_type": "code",
   "execution_count": 80,
   "id": "817193e0",
   "metadata": {},
   "outputs": [],
   "source": [
    "tcp_40_df = pd.read_excel(\"tcp_genetico.xlsx\", sheet_name = \"40 Nodos\")\n",
    "tcp_100_df = pd.read_excel(\"tcp_genetico.xlsx\", sheet_name = \"100 Nodos\")\n",
    "tcp_150_df = pd.read_excel(\"tcp_genetico.xlsx\", sheet_name = \"150 Nodos\")\n",
    "tcp_200_df = pd.read_excel(\"tcp_genetico.xlsx\", sheet_name = \"200 Nodos\")"
   ]
  },
  {
   "cell_type": "code",
   "execution_count": 150,
   "id": "2a539ffa",
   "metadata": {},
   "outputs": [],
   "source": [
    "def algoritmo_genetico(redes):\n",
    "\n",
    "    for count, red in enumerate(redes):\n",
    "        \n",
    "        inicia_tiempo = time.time()\n",
    "        \n",
    "        comienzo_ruta = int(red.columns[1])\n",
    "        print(f\"Red #{count+1}\\nComenzando en {comienzo_ruta}\\n\\n\")\n",
    "        \n",
    "        lista_casas = list(red.columns[2:])\n",
    "        \n",
    "        max_generaciones = 100\n",
    "        max_fitness = 0\n",
    "        min_distancia = 99999999\n",
    "        tamanio_poblacional = 4\n",
    "        probabilidad_mutacion = 0.1\n",
    "        probabildad_cruce = 0.9\n",
    "        crom_min = []\n",
    "\n",
    "        poblacion_inicial = generar_poblacion_inicial(tamanio_poblacional, lista_casas)\n",
    "        \n",
    "        for generacion in range(max_generaciones):\n",
    "\n",
    "            max_fitness, min_distancia, crom_min = checar_fitness_max(\n",
    "                poblacion_inicial, max_fitness, min_distancia, generacion, comienzo_ruta, red, crom_min\n",
    "            )\n",
    "\n",
    "            hijos_finales = []\n",
    "            \n",
    "            while len(hijos_finales) < tamanio_poblacional:\n",
    "                lista_fitness, lista_distancias, fitness_total = fitness_poblacional(poblacion_inicial, comienzo_ruta, red)\n",
    "                padre1, padre2 = seleccion_rouleta(poblacion_inicial, lista_fitness, fitness_total)\n",
    "                hijo1, hijo2 = cruce(padre1, padre2, probabildad_cruce)\n",
    "                hijos = [hijo1, hijo2]\n",
    "                hijos_mutados = mutacion(hijos, probabilidad_mutacion)\n",
    "                hijos_factibles = forzar_factibilidad(hijos_mutados, lista_casas)\n",
    "                hijos_finales.extend(hijos_factibles)\n",
    "            \n",
    "            poblacion_inicial = hijos_finales\n",
    "            \n",
    "        acaba_tiempo = time.time()\n",
    "        tiempo = acaba_tiempo - inicia_tiempo\n",
    "        \n",
    "        tcp_200_df.loc[0, f\"Red {count+1}\"] = max_fitness  \n",
    "        tcp_200_df.loc[1, f\"Red {count+1}\"] = min_distancia  \n",
    "        tcp_200_df.loc[2, f\"Red {count+1}\"] = tiempo \n",
    "        tcp_200_df.loc[3, f\"Red {count+1}\"] = str(crom_min)\n",
    "\n",
    "        tcp_200_df.to_excel(\"TCP200.xlsx\", index=False)"
   ]
  },
  {
   "cell_type": "code",
   "execution_count": 151,
   "id": "15c6ca8f",
   "metadata": {
    "scrolled": true
   },
   "outputs": [
    {
     "name": "stdout",
     "output_type": "stream",
     "text": [
      "Red #1\n",
      "Comenzando en 0\n",
      "\n",
      "\n",
      "Red #2\n",
      "Comenzando en 0\n",
      "\n",
      "\n",
      "Red #3\n",
      "Comenzando en 0\n",
      "\n",
      "\n",
      "Red #4\n",
      "Comenzando en 0\n",
      "\n",
      "\n",
      "Red #5\n",
      "Comenzando en 0\n",
      "\n",
      "\n",
      "Red #6\n",
      "Comenzando en 0\n",
      "\n",
      "\n",
      "Red #7\n",
      "Comenzando en 0\n",
      "\n",
      "\n",
      "Red #8\n",
      "Comenzando en 0\n",
      "\n",
      "\n",
      "Red #9\n",
      "Comenzando en 0\n",
      "\n",
      "\n",
      "Red #10\n",
      "Comenzando en 0\n",
      "\n",
      "\n"
     ]
    }
   ],
   "source": [
    "algoritmo_genetico(redes_200)"
   ]
  },
  {
   "cell_type": "code",
   "execution_count": 147,
   "id": "5d00eb38",
   "metadata": {},
   "outputs": [
    {
     "name": "stdout",
     "output_type": "stream",
     "text": [
      "Red #1\n",
      "Comenzando en 0\n",
      "\n",
      "\n",
      "Red #2\n",
      "Comenzando en 0\n",
      "\n",
      "\n",
      "Red #3\n",
      "Comenzando en 0\n",
      "\n",
      "\n",
      "Red #4\n",
      "Comenzando en 0\n",
      "\n",
      "\n",
      "Red #5\n",
      "Comenzando en 0\n",
      "\n",
      "\n",
      "Red #6\n",
      "Comenzando en 0\n",
      "\n",
      "\n",
      "Red #7\n",
      "Comenzando en 0\n",
      "\n",
      "\n",
      "Red #8\n",
      "Comenzando en 0\n",
      "\n",
      "\n",
      "Red #9\n",
      "Comenzando en 0\n",
      "\n",
      "\n",
      "Red #10\n",
      "Comenzando en 0\n",
      "\n",
      "\n"
     ]
    }
   ],
   "source": [
    "algoritmo_genetico(redes_40)"
   ]
  },
  {
   "cell_type": "code",
   "execution_count": null,
   "id": "a3fe1976",
   "metadata": {},
   "outputs": [],
   "source": []
  }
 ],
 "metadata": {
  "kernelspec": {
   "display_name": "Python 3 (ipykernel)",
   "language": "python",
   "name": "python3"
  },
  "language_info": {
   "codemirror_mode": {
    "name": "ipython",
    "version": 3
   },
   "file_extension": ".py",
   "mimetype": "text/x-python",
   "name": "python",
   "nbconvert_exporter": "python",
   "pygments_lexer": "ipython3",
   "version": "3.11.5"
  }
 },
 "nbformat": 4,
 "nbformat_minor": 5
}
